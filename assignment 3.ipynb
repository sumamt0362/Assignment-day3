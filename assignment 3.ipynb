{
 "cells": [
  {
   "cell_type": "code",
   "execution_count": 2,
   "id": "6dcb7857-a170-47b4-bb2f-b54acfc349f1",
   "metadata": {},
   "outputs": [],
   "source": [
    "import pandas as pd\n",
    "import numpy as np\n",
    "from sklearn.tree import DecisionTreeClassifier"
   ]
  },
  {
   "cell_type": "code",
   "execution_count": 3,
   "id": "d3d64beb-a776-4219-ad80-1f3a74932f65",
   "metadata": {},
   "outputs": [
    {
     "data": {
      "text/html": [
       "<div>\n",
       "<style scoped>\n",
       "    .dataframe tbody tr th:only-of-type {\n",
       "        vertical-align: middle;\n",
       "    }\n",
       "\n",
       "    .dataframe tbody tr th {\n",
       "        vertical-align: top;\n",
       "    }\n",
       "\n",
       "    .dataframe thead th {\n",
       "        text-align: right;\n",
       "    }\n",
       "</style>\n",
       "<table border=\"1\" class=\"dataframe\">\n",
       "  <thead>\n",
       "    <tr style=\"text-align: right;\">\n",
       "      <th></th>\n",
       "      <th>Image</th>\n",
       "      <th>Mean</th>\n",
       "      <th>Variance</th>\n",
       "      <th>Standard Deviation</th>\n",
       "      <th>Entropy</th>\n",
       "      <th>Skewness</th>\n",
       "      <th>Kurtosis</th>\n",
       "      <th>Contrast</th>\n",
       "      <th>Energy</th>\n",
       "      <th>ASM</th>\n",
       "      <th>Homogeneity</th>\n",
       "      <th>Dissimilarity</th>\n",
       "      <th>Correlation</th>\n",
       "      <th>Coarseness</th>\n",
       "      <th>PSNR</th>\n",
       "      <th>SSIM</th>\n",
       "      <th>MSE</th>\n",
       "      <th>DC</th>\n",
       "      <th>Target</th>\n",
       "    </tr>\n",
       "  </thead>\n",
       "  <tbody>\n",
       "    <tr>\n",
       "      <th>0</th>\n",
       "      <td>Image1</td>\n",
       "      <td>23.448517</td>\n",
       "      <td>2538.985627</td>\n",
       "      <td>50.388348</td>\n",
       "      <td>0.651174</td>\n",
       "      <td>1.984202</td>\n",
       "      <td>5.421042</td>\n",
       "      <td>181.467713</td>\n",
       "      <td>0.781557</td>\n",
       "      <td>0.610831</td>\n",
       "      <td>0.847033</td>\n",
       "      <td>2.765411</td>\n",
       "      <td>0.968576</td>\n",
       "      <td>7.458341e-155</td>\n",
       "      <td>97.974630</td>\n",
       "      <td>0.777011</td>\n",
       "      <td>0.171163</td>\n",
       "      <td>0.303989</td>\n",
       "      <td>1</td>\n",
       "    </tr>\n",
       "    <tr>\n",
       "      <th>1</th>\n",
       "      <td>Image2</td>\n",
       "      <td>4.398331</td>\n",
       "      <td>834.853030</td>\n",
       "      <td>28.893823</td>\n",
       "      <td>0.953532</td>\n",
       "      <td>6.495203</td>\n",
       "      <td>43.349355</td>\n",
       "      <td>76.745886</td>\n",
       "      <td>0.972770</td>\n",
       "      <td>0.946281</td>\n",
       "      <td>0.980762</td>\n",
       "      <td>0.548605</td>\n",
       "      <td>0.959751</td>\n",
       "      <td>7.458341e-155</td>\n",
       "      <td>110.346597</td>\n",
       "      <td>0.977953</td>\n",
       "      <td>0.009913</td>\n",
       "      <td>0.839019</td>\n",
       "      <td>1</td>\n",
       "    </tr>\n",
       "    <tr>\n",
       "      <th>2</th>\n",
       "      <td>Image3</td>\n",
       "      <td>3.244263</td>\n",
       "      <td>642.059166</td>\n",
       "      <td>25.338886</td>\n",
       "      <td>0.966065</td>\n",
       "      <td>7.772860</td>\n",
       "      <td>61.756034</td>\n",
       "      <td>81.752406</td>\n",
       "      <td>0.980161</td>\n",
       "      <td>0.960715</td>\n",
       "      <td>0.985066</td>\n",
       "      <td>0.540411</td>\n",
       "      <td>0.944259</td>\n",
       "      <td>7.458341e-155</td>\n",
       "      <td>112.266298</td>\n",
       "      <td>0.985362</td>\n",
       "      <td>0.006372</td>\n",
       "      <td>0.849775</td>\n",
       "      <td>1</td>\n",
       "    </tr>\n",
       "    <tr>\n",
       "      <th>3</th>\n",
       "      <td>Image4</td>\n",
       "      <td>8.511353</td>\n",
       "      <td>1126.214187</td>\n",
       "      <td>33.559115</td>\n",
       "      <td>0.868765</td>\n",
       "      <td>3.763142</td>\n",
       "      <td>15.107579</td>\n",
       "      <td>362.291213</td>\n",
       "      <td>0.921786</td>\n",
       "      <td>0.849690</td>\n",
       "      <td>0.949295</td>\n",
       "      <td>2.765725</td>\n",
       "      <td>0.859027</td>\n",
       "      <td>7.458341e-155</td>\n",
       "      <td>101.955792</td>\n",
       "      <td>0.881015</td>\n",
       "      <td>0.068437</td>\n",
       "      <td>0.000000</td>\n",
       "      <td>0</td>\n",
       "    </tr>\n",
       "    <tr>\n",
       "      <th>4</th>\n",
       "      <td>Image5</td>\n",
       "      <td>21.000793</td>\n",
       "      <td>2235.316978</td>\n",
       "      <td>47.279139</td>\n",
       "      <td>0.684724</td>\n",
       "      <td>1.936029</td>\n",
       "      <td>4.722343</td>\n",
       "      <td>312.439226</td>\n",
       "      <td>0.804184</td>\n",
       "      <td>0.646711</td>\n",
       "      <td>0.880301</td>\n",
       "      <td>3.006660</td>\n",
       "      <td>0.938572</td>\n",
       "      <td>7.458341e-155</td>\n",
       "      <td>97.639870</td>\n",
       "      <td>0.766308</td>\n",
       "      <td>0.184878</td>\n",
       "      <td>0.000000</td>\n",
       "      <td>0</td>\n",
       "    </tr>\n",
       "  </tbody>\n",
       "</table>\n",
       "</div>"
      ],
      "text/plain": [
       "    Image       Mean     Variance  Standard Deviation   Entropy  Skewness  \\\n",
       "0  Image1  23.448517  2538.985627           50.388348  0.651174  1.984202   \n",
       "1  Image2   4.398331   834.853030           28.893823  0.953532  6.495203   \n",
       "2  Image3   3.244263   642.059166           25.338886  0.966065  7.772860   \n",
       "3  Image4   8.511353  1126.214187           33.559115  0.868765  3.763142   \n",
       "4  Image5  21.000793  2235.316978           47.279139  0.684724  1.936029   \n",
       "\n",
       "    Kurtosis    Contrast    Energy       ASM  Homogeneity  Dissimilarity  \\\n",
       "0   5.421042  181.467713  0.781557  0.610831     0.847033       2.765411   \n",
       "1  43.349355   76.745886  0.972770  0.946281     0.980762       0.548605   \n",
       "2  61.756034   81.752406  0.980161  0.960715     0.985066       0.540411   \n",
       "3  15.107579  362.291213  0.921786  0.849690     0.949295       2.765725   \n",
       "4   4.722343  312.439226  0.804184  0.646711     0.880301       3.006660   \n",
       "\n",
       "   Correlation     Coarseness        PSNR      SSIM       MSE        DC  \\\n",
       "0     0.968576  7.458341e-155   97.974630  0.777011  0.171163  0.303989   \n",
       "1     0.959751  7.458341e-155  110.346597  0.977953  0.009913  0.839019   \n",
       "2     0.944259  7.458341e-155  112.266298  0.985362  0.006372  0.849775   \n",
       "3     0.859027  7.458341e-155  101.955792  0.881015  0.068437  0.000000   \n",
       "4     0.938572  7.458341e-155   97.639870  0.766308  0.184878  0.000000   \n",
       "\n",
       "   Target  \n",
       "0       1  \n",
       "1       1  \n",
       "2       1  \n",
       "3       0  \n",
       "4       0  "
      ]
     },
     "execution_count": 3,
     "metadata": {},
     "output_type": "execute_result"
    }
   ],
   "source": [
    "df= pd.read_csv(r\"C:\\Users\\HP\\Downloads\\archive\\bt_dataset_t3.csv\")\n",
    "df.head()"
   ]
  },
  {
   "cell_type": "code",
   "execution_count": 4,
   "id": "6d68f30a-9607-428b-97cc-c3965521295b",
   "metadata": {},
   "outputs": [
    {
     "data": {
      "text/plain": [
       "(1644, 19)"
      ]
     },
     "execution_count": 4,
     "metadata": {},
     "output_type": "execute_result"
    }
   ],
   "source": [
    "df.shape"
   ]
  },
  {
   "cell_type": "code",
   "execution_count": 7,
   "id": "e8d3bdb9-e65b-429a-8b10-376f1851c57a",
   "metadata": {},
   "outputs": [
    {
     "data": {
      "text/plain": [
       "Image                   0\n",
       "Mean                    0\n",
       "Variance                0\n",
       "Standard Deviation      0\n",
       "Entropy                 0\n",
       "Skewness              369\n",
       "Kurtosis              369\n",
       "Contrast                0\n",
       "Energy                  0\n",
       "ASM                     0\n",
       "Homogeneity             0\n",
       "Dissimilarity           0\n",
       "Correlation             0\n",
       "Coarseness              0\n",
       "PSNR                    0\n",
       "SSIM                  369\n",
       "MSE                     0\n",
       "DC                     98\n",
       "Target                  0\n",
       "dtype: int64"
      ]
     },
     "execution_count": 7,
     "metadata": {},
     "output_type": "execute_result"
    }
   ],
   "source": [
    "df.isnull().sum()"
   ]
  },
  {
   "cell_type": "code",
   "execution_count": 8,
   "id": "0c4ccea7-f415-4ac6-95d2-af94621b4f88",
   "metadata": {},
   "outputs": [],
   "source": [
    "df.dropna(inplace=True)"
   ]
  },
  {
   "cell_type": "code",
   "execution_count": 9,
   "id": "c95bdf43-9ce3-4595-851d-cecf3f10d0ab",
   "metadata": {},
   "outputs": [
    {
     "data": {
      "text/plain": [
       "Image                 0\n",
       "Mean                  0\n",
       "Variance              0\n",
       "Standard Deviation    0\n",
       "Entropy               0\n",
       "Skewness              0\n",
       "Kurtosis              0\n",
       "Contrast              0\n",
       "Energy                0\n",
       "ASM                   0\n",
       "Homogeneity           0\n",
       "Dissimilarity         0\n",
       "Correlation           0\n",
       "Coarseness            0\n",
       "PSNR                  0\n",
       "SSIM                  0\n",
       "MSE                   0\n",
       "DC                    0\n",
       "Target                0\n",
       "dtype: int64"
      ]
     },
     "execution_count": 9,
     "metadata": {},
     "output_type": "execute_result"
    }
   ],
   "source": [
    "df.isnull().sum()"
   ]
  },
  {
   "cell_type": "code",
   "execution_count": 10,
   "id": "4b88d799-e6b5-4025-b7ca-69247fcdc715",
   "metadata": {},
   "outputs": [],
   "source": [
    "ind = df[['Mean','Variance','Standard Deviation']]#independent\n",
    "dep = df['Target']"
   ]
  },
  {
   "cell_type": "code",
   "execution_count": 11,
   "id": "8b16c4fb-cca8-4a6b-9a2d-5a6b7805f9ab",
   "metadata": {},
   "outputs": [
    {
     "data": {
      "text/html": [
       "<style>#sk-container-id-1 {color: black;background-color: white;}#sk-container-id-1 pre{padding: 0;}#sk-container-id-1 div.sk-toggleable {background-color: white;}#sk-container-id-1 label.sk-toggleable__label {cursor: pointer;display: block;width: 100%;margin-bottom: 0;padding: 0.3em;box-sizing: border-box;text-align: center;}#sk-container-id-1 label.sk-toggleable__label-arrow:before {content: \"▸\";float: left;margin-right: 0.25em;color: #696969;}#sk-container-id-1 label.sk-toggleable__label-arrow:hover:before {color: black;}#sk-container-id-1 div.sk-estimator:hover label.sk-toggleable__label-arrow:before {color: black;}#sk-container-id-1 div.sk-toggleable__content {max-height: 0;max-width: 0;overflow: hidden;text-align: left;background-color: #f0f8ff;}#sk-container-id-1 div.sk-toggleable__content pre {margin: 0.2em;color: black;border-radius: 0.25em;background-color: #f0f8ff;}#sk-container-id-1 input.sk-toggleable__control:checked~div.sk-toggleable__content {max-height: 200px;max-width: 100%;overflow: auto;}#sk-container-id-1 input.sk-toggleable__control:checked~label.sk-toggleable__label-arrow:before {content: \"▾\";}#sk-container-id-1 div.sk-estimator input.sk-toggleable__control:checked~label.sk-toggleable__label {background-color: #d4ebff;}#sk-container-id-1 div.sk-label input.sk-toggleable__control:checked~label.sk-toggleable__label {background-color: #d4ebff;}#sk-container-id-1 input.sk-hidden--visually {border: 0;clip: rect(1px 1px 1px 1px);clip: rect(1px, 1px, 1px, 1px);height: 1px;margin: -1px;overflow: hidden;padding: 0;position: absolute;width: 1px;}#sk-container-id-1 div.sk-estimator {font-family: monospace;background-color: #f0f8ff;border: 1px dotted black;border-radius: 0.25em;box-sizing: border-box;margin-bottom: 0.5em;}#sk-container-id-1 div.sk-estimator:hover {background-color: #d4ebff;}#sk-container-id-1 div.sk-parallel-item::after {content: \"\";width: 100%;border-bottom: 1px solid gray;flex-grow: 1;}#sk-container-id-1 div.sk-label:hover label.sk-toggleable__label {background-color: #d4ebff;}#sk-container-id-1 div.sk-serial::before {content: \"\";position: absolute;border-left: 1px solid gray;box-sizing: border-box;top: 0;bottom: 0;left: 50%;z-index: 0;}#sk-container-id-1 div.sk-serial {display: flex;flex-direction: column;align-items: center;background-color: white;padding-right: 0.2em;padding-left: 0.2em;position: relative;}#sk-container-id-1 div.sk-item {position: relative;z-index: 1;}#sk-container-id-1 div.sk-parallel {display: flex;align-items: stretch;justify-content: center;background-color: white;position: relative;}#sk-container-id-1 div.sk-item::before, #sk-container-id-1 div.sk-parallel-item::before {content: \"\";position: absolute;border-left: 1px solid gray;box-sizing: border-box;top: 0;bottom: 0;left: 50%;z-index: -1;}#sk-container-id-1 div.sk-parallel-item {display: flex;flex-direction: column;z-index: 1;position: relative;background-color: white;}#sk-container-id-1 div.sk-parallel-item:first-child::after {align-self: flex-end;width: 50%;}#sk-container-id-1 div.sk-parallel-item:last-child::after {align-self: flex-start;width: 50%;}#sk-container-id-1 div.sk-parallel-item:only-child::after {width: 0;}#sk-container-id-1 div.sk-dashed-wrapped {border: 1px dashed gray;margin: 0 0.4em 0.5em 0.4em;box-sizing: border-box;padding-bottom: 0.4em;background-color: white;}#sk-container-id-1 div.sk-label label {font-family: monospace;font-weight: bold;display: inline-block;line-height: 1.2em;}#sk-container-id-1 div.sk-label-container {text-align: center;}#sk-container-id-1 div.sk-container {/* jupyter's `normalize.less` sets `[hidden] { display: none; }` but bootstrap.min.css set `[hidden] { display: none !important; }` so we also need the `!important` here to be able to override the default hidden behavior on the sphinx rendered scikit-learn.org. See: https://github.com/scikit-learn/scikit-learn/issues/21755 */display: inline-block !important;position: relative;}#sk-container-id-1 div.sk-text-repr-fallback {display: none;}</style><div id=\"sk-container-id-1\" class=\"sk-top-container\"><div class=\"sk-text-repr-fallback\"><pre>DecisionTreeClassifier()</pre><b>In a Jupyter environment, please rerun this cell to show the HTML representation or trust the notebook. <br />On GitHub, the HTML representation is unable to render, please try loading this page with nbviewer.org.</b></div><div class=\"sk-container\" hidden><div class=\"sk-item\"><div class=\"sk-estimator sk-toggleable\"><input class=\"sk-toggleable__control sk-hidden--visually\" id=\"sk-estimator-id-1\" type=\"checkbox\" checked><label for=\"sk-estimator-id-1\" class=\"sk-toggleable__label sk-toggleable__label-arrow\">DecisionTreeClassifier</label><div class=\"sk-toggleable__content\"><pre>DecisionTreeClassifier()</pre></div></div></div></div></div>"
      ],
      "text/plain": [
       "DecisionTreeClassifier()"
      ]
     },
     "execution_count": 11,
     "metadata": {},
     "output_type": "execute_result"
    }
   ],
   "source": [
    "#create Decision Tree Classifier object\n",
    "DT=DecisionTreeClassifier()\n",
    "\n",
    "# Train Decision Tree Classifier\n",
    "DT.fit(ind, dep)"
   ]
  },
  {
   "cell_type": "code",
   "execution_count": 13,
   "id": "dd3ca149-d0cb-41d2-9a2f-3638a73a8bc9",
   "metadata": {},
   "outputs": [
    {
     "name": "stdin",
     "output_type": "stream",
     "text": [
      "enter the mean value: 3\n",
      "enter the variance: 4\n",
      "enter the standard deviation: 5\n"
     ]
    },
    {
     "name": "stdout",
     "output_type": "stream",
     "text": [
      "non Tumor\n"
     ]
    },
    {
     "name": "stderr",
     "output_type": "stream",
     "text": [
      "C:\\Users\\HP\\anaconda3\\Lib\\site-packages\\sklearn\\base.py:439: UserWarning: X does not have valid feature names, but DecisionTreeClassifier was fitted with feature names\n",
      "  warnings.warn(\n"
     ]
    }
   ],
   "source": [
    "M=int(input(\"enter the mean value:\"))\n",
    "V=int(input(\"enter the variance:\"))\n",
    "SD=int(input(\"enter the standard deviation:\"))\n",
    "pre=DT.predict([[M,V,SD]])\n",
    "if pre==1:\n",
    "    print(\"Tumor\")\n",
    "else:\n",
    "    print(\"non Tumor\")\n",
    "\n",
    "\n"
   ]
  },
  {
   "cell_type": "code",
   "execution_count": null,
   "id": "8fdaae3a-0427-4aac-a319-f935e2f32c09",
   "metadata": {},
   "outputs": [],
   "source": []
  }
 ],
 "metadata": {
  "kernelspec": {
   "display_name": "Python 3 (ipykernel)",
   "language": "python",
   "name": "python3"
  },
  "language_info": {
   "codemirror_mode": {
    "name": "ipython",
    "version": 3
   },
   "file_extension": ".py",
   "mimetype": "text/x-python",
   "name": "python",
   "nbconvert_exporter": "python",
   "pygments_lexer": "ipython3",
   "version": "3.11.7"
  }
 },
 "nbformat": 4,
 "nbformat_minor": 5
}
